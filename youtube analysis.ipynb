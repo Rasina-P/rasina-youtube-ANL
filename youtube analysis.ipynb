{
 "cells": [
  {
   "cell_type": "code",
   "execution_count": 1,
   "id": "e82ef414-a8e5-48cb-82a3-c822e361a731",
   "metadata": {},
   "outputs": [],
   "source": [
    "import pandas as pd"
   ]
  },
  {
   "cell_type": "code",
   "execution_count": 2,
   "id": "fc702335-4a0a-4f07-853d-9c59cc22ded7",
   "metadata": {},
   "outputs": [],
   "source": [
    "data=pd.read_csv('~\\Downloads/interncareer/Tasks/youtubers_df.csv')"
   ]
  },
  {
   "cell_type": "code",
   "execution_count": 3,
   "id": "f3c93963-6120-4827-ad35-439aeeb67c81",
   "metadata": {},
   "outputs": [
    {
     "data": {
      "text/html": [
       "<div>\n",
       "<style scoped>\n",
       "    .dataframe tbody tr th:only-of-type {\n",
       "        vertical-align: middle;\n",
       "    }\n",
       "\n",
       "    .dataframe tbody tr th {\n",
       "        vertical-align: top;\n",
       "    }\n",
       "\n",
       "    .dataframe thead th {\n",
       "        text-align: right;\n",
       "    }\n",
       "</style>\n",
       "<table border=\"1\" class=\"dataframe\">\n",
       "  <thead>\n",
       "    <tr style=\"text-align: right;\">\n",
       "      <th></th>\n",
       "      <th>Rank</th>\n",
       "      <th>Username</th>\n",
       "      <th>Categories</th>\n",
       "      <th>Suscribers</th>\n",
       "      <th>Country</th>\n",
       "      <th>Visits</th>\n",
       "      <th>Likes</th>\n",
       "      <th>Comments</th>\n",
       "      <th>Links</th>\n",
       "    </tr>\n",
       "  </thead>\n",
       "  <tbody>\n",
       "    <tr>\n",
       "      <th>0</th>\n",
       "      <td>1</td>\n",
       "      <td>tseries</td>\n",
       "      <td>Música y baile</td>\n",
       "      <td>249500000.0</td>\n",
       "      <td>India</td>\n",
       "      <td>86200.0</td>\n",
       "      <td>2700.0</td>\n",
       "      <td>78.0</td>\n",
       "      <td>http://youtube.com/channel/UCq-Fj5jknLsUf-MWSy...</td>\n",
       "    </tr>\n",
       "    <tr>\n",
       "      <th>1</th>\n",
       "      <td>2</td>\n",
       "      <td>MrBeast</td>\n",
       "      <td>Videojuegos, Humor</td>\n",
       "      <td>183500000.0</td>\n",
       "      <td>Estados Unidos</td>\n",
       "      <td>117400000.0</td>\n",
       "      <td>5300000.0</td>\n",
       "      <td>18500.0</td>\n",
       "      <td>http://youtube.com/channel/UCX6OQ3DkcsbYNE6H8u...</td>\n",
       "    </tr>\n",
       "    <tr>\n",
       "      <th>2</th>\n",
       "      <td>3</td>\n",
       "      <td>CoComelon</td>\n",
       "      <td>Educación</td>\n",
       "      <td>165500000.0</td>\n",
       "      <td>Unknown</td>\n",
       "      <td>7000000.0</td>\n",
       "      <td>24700.0</td>\n",
       "      <td>0.0</td>\n",
       "      <td>http://youtube.com/channel/UCbCmjCuTUZos6Inko4...</td>\n",
       "    </tr>\n",
       "    <tr>\n",
       "      <th>3</th>\n",
       "      <td>4</td>\n",
       "      <td>SETIndia</td>\n",
       "      <td>NaN</td>\n",
       "      <td>162600000.0</td>\n",
       "      <td>India</td>\n",
       "      <td>15600.0</td>\n",
       "      <td>166.0</td>\n",
       "      <td>9.0</td>\n",
       "      <td>http://youtube.com/channel/UCpEhnqL0y41EpW2TvW...</td>\n",
       "    </tr>\n",
       "    <tr>\n",
       "      <th>4</th>\n",
       "      <td>5</td>\n",
       "      <td>KidsDianaShow</td>\n",
       "      <td>Animación, Juguetes</td>\n",
       "      <td>113500000.0</td>\n",
       "      <td>Unknown</td>\n",
       "      <td>3900000.0</td>\n",
       "      <td>12400.0</td>\n",
       "      <td>0.0</td>\n",
       "      <td>http://youtube.com/channel/UCk8GzjMOrta8yxDcKf...</td>\n",
       "    </tr>\n",
       "  </tbody>\n",
       "</table>\n",
       "</div>"
      ],
      "text/plain": [
       "   Rank       Username           Categories   Suscribers         Country  \\\n",
       "0     1        tseries       Música y baile  249500000.0           India   \n",
       "1     2        MrBeast   Videojuegos, Humor  183500000.0  Estados Unidos   \n",
       "2     3      CoComelon            Educación  165500000.0         Unknown   \n",
       "3     4       SETIndia                  NaN  162600000.0           India   \n",
       "4     5  KidsDianaShow  Animación, Juguetes  113500000.0         Unknown   \n",
       "\n",
       "        Visits      Likes  Comments  \\\n",
       "0      86200.0     2700.0      78.0   \n",
       "1  117400000.0  5300000.0   18500.0   \n",
       "2    7000000.0    24700.0       0.0   \n",
       "3      15600.0      166.0       9.0   \n",
       "4    3900000.0    12400.0       0.0   \n",
       "\n",
       "                                               Links  \n",
       "0  http://youtube.com/channel/UCq-Fj5jknLsUf-MWSy...  \n",
       "1  http://youtube.com/channel/UCX6OQ3DkcsbYNE6H8u...  \n",
       "2  http://youtube.com/channel/UCbCmjCuTUZos6Inko4...  \n",
       "3  http://youtube.com/channel/UCpEhnqL0y41EpW2TvW...  \n",
       "4  http://youtube.com/channel/UCk8GzjMOrta8yxDcKf...  "
      ]
     },
     "execution_count": 3,
     "metadata": {},
     "output_type": "execute_result"
    }
   ],
   "source": [
    "data.head()"
   ]
  },
  {
   "cell_type": "code",
   "execution_count": 4,
   "id": "af8672e5-e3d0-4a37-b071-38720d8e1ade",
   "metadata": {},
   "outputs": [
    {
     "data": {
      "text/plain": [
       "Index(['Rank', 'Username', 'Categories', 'Suscribers', 'Country', 'Visits',\n",
       "       'Likes', 'Comments', 'Links'],\n",
       "      dtype='object')"
      ]
     },
     "execution_count": 4,
     "metadata": {},
     "output_type": "execute_result"
    }
   ],
   "source": [
    "data.columns"
   ]
  },
  {
   "cell_type": "code",
   "execution_count": 5,
   "id": "77a88723-dc03-4708-97b0-162f7e210c82",
   "metadata": {},
   "outputs": [
    {
     "data": {
      "text/plain": [
       "(1000, 9)"
      ]
     },
     "execution_count": 5,
     "metadata": {},
     "output_type": "execute_result"
    }
   ],
   "source": [
    "data.shape"
   ]
  },
  {
   "cell_type": "code",
   "execution_count": 6,
   "id": "04260750-8def-4422-84d7-36722e80c706",
   "metadata": {},
   "outputs": [
    {
     "data": {
      "text/plain": [
       "Rank            0\n",
       "Username        0\n",
       "Categories    306\n",
       "Suscribers      0\n",
       "Country         0\n",
       "Visits          0\n",
       "Likes           0\n",
       "Comments        0\n",
       "Links           0\n",
       "dtype: int64"
      ]
     },
     "execution_count": 6,
     "metadata": {},
     "output_type": "execute_result"
    }
   ],
   "source": [
    "data.isna().sum()"
   ]
  },
  {
   "cell_type": "code",
   "execution_count": 7,
   "id": "1c836fa2-18a2-403b-b50b-8af556d84c46",
   "metadata": {},
   "outputs": [
    {
     "data": {
      "text/plain": [
       "Música y baile               160\n",
       "Películas, Animación          61\n",
       "Música y baile, Películas     41\n",
       "Vlogs diarios                 37\n",
       "Noticias y Política           36\n",
       "Name: Categories, dtype: int64"
      ]
     },
     "execution_count": 7,
     "metadata": {},
     "output_type": "execute_result"
    }
   ],
   "source": [
    "data.Categories.value_counts().head()"
   ]
  },
  {
   "cell_type": "code",
   "execution_count": 8,
   "id": "e1031425-047c-461a-b8ad-d08bc822eb12",
   "metadata": {},
   "outputs": [],
   "source": [
    "data.Categories.fillna('Música y baile',inplace=True)"
   ]
  },
  {
   "cell_type": "code",
   "execution_count": 9,
   "id": "674dd7ef-2bc3-4ca6-ae76-defabf5393a5",
   "metadata": {},
   "outputs": [
    {
     "data": {
      "text/plain": [
       "Rank          0\n",
       "Username      0\n",
       "Categories    0\n",
       "Suscribers    0\n",
       "Country       0\n",
       "Visits        0\n",
       "Likes         0\n",
       "Comments      0\n",
       "Links         0\n",
       "dtype: int64"
      ]
     },
     "execution_count": 9,
     "metadata": {},
     "output_type": "execute_result"
    }
   ],
   "source": [
    "data.isna().sum()"
   ]
  },
  {
   "cell_type": "code",
   "execution_count": 10,
   "id": "e104d20c-1b21-4e63-9638-1b8e586d97a7",
   "metadata": {},
   "outputs": [],
   "source": [
    "import matplotlib.pyplot as plt"
   ]
  },
  {
   "cell_type": "code",
   "execution_count": 11,
   "id": "7a6d5d04-d371-4db8-9ec7-c274fc1ac293",
   "metadata": {},
   "outputs": [],
   "source": [
    "from scipy.stats import zscore"
   ]
  },
  {
   "cell_type": "code",
   "execution_count": 12,
   "id": "2efd5013-3918-4e9c-bb0e-902575e10c9e",
   "metadata": {},
   "outputs": [],
   "source": [
    "data1=pd.get_dummies(data)"
   ]
  },
  {
   "cell_type": "code",
   "execution_count": 13,
   "id": "836ad238-af27-42fb-8efa-e42faa32a3ab",
   "metadata": {},
   "outputs": [],
   "source": [
    "z_score=pd.DataFrame(zscore(data1),columns=data.columns)"
   ]
  },
  {
   "cell_type": "code",
   "execution_count": 14,
   "id": "c90b4c70-543e-4550-bd35-d5d3aaae1e0f",
   "metadata": {},
   "outputs": [],
   "source": [
    "outliers=(abs(z_score)>3)"
   ]
  },
  {
   "cell_type": "code",
   "execution_count": 15,
   "id": "66f4a27d-547d-4185-b4de-dbba2a39de4c",
   "metadata": {},
   "outputs": [
    {
     "data": {
      "text/plain": [
       "Rank           0\n",
       "Username       0\n",
       "Categories     0\n",
       "Suscribers    17\n",
       "Country        0\n",
       "Visits         6\n",
       "Likes          6\n",
       "Comments       8\n",
       "Links          0\n",
       "dtype: int64"
      ]
     },
     "execution_count": 15,
     "metadata": {},
     "output_type": "execute_result"
    }
   ],
   "source": [
    "outliers.sum()"
   ]
  },
  {
   "cell_type": "code",
   "execution_count": 16,
   "id": "925080b3-9412-4794-99c5-6055214bddb6",
   "metadata": {},
   "outputs": [],
   "source": [
    "import seaborn as sns"
   ]
  },
  {
   "cell_type": "code",
   "execution_count": 17,
   "id": "561a8fa5-9617-4e14-bd16-583a7eefc698",
   "metadata": {},
   "outputs": [
    {
     "data": {
      "image/png": "[encoded data removed]",
      "text/plain": [
       "<Figure size 720x360 with 1 Axes>"
      ]
     },
     "metadata": {
      "needs_background": "light"
     },
     "output_type": "display_data"
    }
   ],
   "source": [
    "plt.figure(figsize=(10,5))\n",
    "sns.boxplot(x=data['Suscribers'])\n",
    "plt.show()"
   ]
  },
  {
   "cell_type": "code",
   "execution_count": 18,
   "id": "fc6f02c1-f85c-4be2-93f0-d52c7cc38c3f",
   "metadata": {},
   "outputs": [],
   "source": [
    "data_no_out=data[~outliers]"
   ]
  },
  {
   "cell_type": "code",
   "execution_count": 19,
   "id": "0775fee1-c67d-482e-86c8-6b7e4b8f5363",
   "metadata": {},
   "outputs": [
    {
     "data": {
      "text/html": [
       "<div>\n",
       "<style scoped>\n",
       "    .dataframe tbody tr th:only-of-type {\n",
       "        vertical-align: middle;\n",
       "    }\n",
       "\n",
       "    .dataframe tbody tr th {\n",
       "        vertical-align: top;\n",
       "    }\n",
       "\n",
       "    .dataframe thead th {\n",
       "        text-align: right;\n",
       "    }\n",
       "</style>\n",
       "<table border=\"1\" class=\"dataframe\">\n",
       "  <thead>\n",
       "    <tr style=\"text-align: right;\">\n",
       "      <th></th>\n",
       "      <th>Rank</th>\n",
       "      <th>Username</th>\n",
       "      <th>Categories</th>\n",
       "      <th>Suscribers</th>\n",
       "      <th>Country</th>\n",
       "      <th>Visits</th>\n",
       "      <th>Likes</th>\n",
       "      <th>Comments</th>\n",
       "      <th>Links</th>\n",
       "    </tr>\n",
       "  </thead>\n",
       "  <tbody>\n",
       "    <tr>\n",
       "      <th>0</th>\n",
       "      <td>1</td>\n",
       "      <td>tseries</td>\n",
       "      <td>Música y baile</td>\n",
       "      <td>NaN</td>\n",
       "      <td>India</td>\n",
       "      <td>86200.0</td>\n",
       "      <td>2700.0</td>\n",
       "      <td>78.0</td>\n",
       "      <td>http://youtube.com/channel/UCq-Fj5jknLsUf-MWSy...</td>\n",
       "    </tr>\n",
       "    <tr>\n",
       "      <th>1</th>\n",
       "      <td>2</td>\n",
       "      <td>MrBeast</td>\n",
       "      <td>Videojuegos, Humor</td>\n",
       "      <td>NaN</td>\n",
       "      <td>Estados Unidos</td>\n",
       "      <td>NaN</td>\n",
       "      <td>NaN</td>\n",
       "      <td>18500.0</td>\n",
       "      <td>http://youtube.com/channel/UCX6OQ3DkcsbYNE6H8u...</td>\n",
       "    </tr>\n",
       "    <tr>\n",
       "      <th>2</th>\n",
       "      <td>3</td>\n",
       "      <td>CoComelon</td>\n",
       "      <td>Educación</td>\n",
       "      <td>NaN</td>\n",
       "      <td>Unknown</td>\n",
       "      <td>7000000.0</td>\n",
       "      <td>24700.0</td>\n",
       "      <td>0.0</td>\n",
       "      <td>http://youtube.com/channel/UCbCmjCuTUZos6Inko4...</td>\n",
       "    </tr>\n",
       "    <tr>\n",
       "      <th>3</th>\n",
       "      <td>4</td>\n",
       "      <td>SETIndia</td>\n",
       "      <td>Música y baile</td>\n",
       "      <td>NaN</td>\n",
       "      <td>India</td>\n",
       "      <td>15600.0</td>\n",
       "      <td>166.0</td>\n",
       "      <td>9.0</td>\n",
       "      <td>http://youtube.com/channel/UCpEhnqL0y41EpW2TvW...</td>\n",
       "    </tr>\n",
       "    <tr>\n",
       "      <th>4</th>\n",
       "      <td>5</td>\n",
       "      <td>KidsDianaShow</td>\n",
       "      <td>Animación, Juguetes</td>\n",
       "      <td>NaN</td>\n",
       "      <td>Unknown</td>\n",
       "      <td>3900000.0</td>\n",
       "      <td>12400.0</td>\n",
       "      <td>0.0</td>\n",
       "      <td>http://youtube.com/channel/UCk8GzjMOrta8yxDcKf...</td>\n",
       "    </tr>\n",
       "  </tbody>\n",
       "</table>\n",
       "</div>"
      ],
      "text/plain": [
       "   Rank       Username           Categories  Suscribers         Country  \\\n",
       "0     1        tseries       Música y baile         NaN           India   \n",
       "1     2        MrBeast   Videojuegos, Humor         NaN  Estados Unidos   \n",
       "2     3      CoComelon            Educación         NaN         Unknown   \n",
       "3     4       SETIndia       Música y baile         NaN           India   \n",
       "4     5  KidsDianaShow  Animación, Juguetes         NaN         Unknown   \n",
       "\n",
       "      Visits    Likes  Comments  \\\n",
       "0    86200.0   2700.0      78.0   \n",
       "1        NaN      NaN   18500.0   \n",
       "2  7000000.0  24700.0       0.0   \n",
       "3    15600.0    166.0       9.0   \n",
       "4  3900000.0  12400.0       0.0   \n",
       "\n",
       "                                               Links  \n",
       "0  http://youtube.com/channel/UCq-Fj5jknLsUf-MWSy...  \n",
       "1  http://youtube.com/channel/UCX6OQ3DkcsbYNE6H8u...  \n",
       "2  http://youtube.com/channel/UCbCmjCuTUZos6Inko4...  \n",
       "3  http://youtube.com/channel/UCpEhnqL0y41EpW2TvW...  \n",
       "4  http://youtube.com/channel/UCk8GzjMOrta8yxDcKf...  "
      ]
     },
     "execution_count": 19,
     "metadata": {},
     "output_type": "execute_result"
    }
   ],
   "source": [
    "data_no_out.head()"
   ]
  },
  {
   "cell_type": "code",
   "execution_count": 20,
   "id": "b4a03b88-4a6b-4461-9cce-f29b585737f4",
   "metadata": {},
   "outputs": [
    {
     "name": "stderr",
     "output_type": "stream",
     "text": [
      "C:\\Users\\muhsi\\anaconda3\\lib\\site-packages\\seaborn\\_decorators.py:36: FutureWarning: Pass the following variable as a keyword arg: x. From version 0.12, the only valid positional argument will be `data`, and passing other arguments without an explicit keyword will result in an error or misinterpretation.\n",
      "  warnings.warn(\n"
     ]
    },
    {
     "data": {
      "image/png": "[encoded data removed]",
      "text/plain": [
       "<Figure size 720x360 with 1 Axes>"
      ]
     },
     "metadata": {
      "needs_background": "light"
     },
     "output_type": "display_data"
    }
   ],
   "source": [
    "plt.figure(figsize=(10,5))\n",
    "sns.boxplot(data_no_out['Suscribers'])\n",
    "plt.show()"
   ]
  },
  {
   "cell_type": "code",
   "execution_count": 21,
   "id": "0420ff8f-2dd1-4a9a-988d-3b2ba07ec518",
   "metadata": {},
   "outputs": [
    {
     "data": {
      "text/plain": [
       "Index(['Rank', 'Username', 'Categories', 'Suscribers', 'Country', 'Visits',\n",
       "       'Likes', 'Comments', 'Links'],\n",
       "      dtype='object')"
      ]
     },
     "execution_count": 21,
     "metadata": {},
     "output_type": "execute_result"
    }
   ],
   "source": [
    "data.columns"
   ]
  },
  {
   "cell_type": "code",
   "execution_count": 22,
   "id": "a6eb014a-8352-49a9-ab12-0f31e94f5fa8",
   "metadata": {},
   "outputs": [
    {
     "data": {
      "text/html": [
       "<div>\n",
       "<style scoped>\n",
       "    .dataframe tbody tr th:only-of-type {\n",
       "        vertical-align: middle;\n",
       "    }\n",
       "\n",
       "    .dataframe tbody tr th {\n",
       "        vertical-align: top;\n",
       "    }\n",
       "\n",
       "    .dataframe thead th {\n",
       "        text-align: right;\n",
       "    }\n",
       "</style>\n",
       "<table border=\"1\" class=\"dataframe\">\n",
       "  <thead>\n",
       "    <tr style=\"text-align: right;\">\n",
       "      <th></th>\n",
       "      <th>Visits</th>\n",
       "    </tr>\n",
       "    <tr>\n",
       "      <th>Categories</th>\n",
       "      <th></th>\n",
       "    </tr>\n",
       "  </thead>\n",
       "  <tbody>\n",
       "    <tr>\n",
       "      <th>Videojuegos, Humor</th>\n",
       "      <td>1.023968e+07</td>\n",
       "    </tr>\n",
       "    <tr>\n",
       "      <th>Animación, Humor</th>\n",
       "      <td>3.760126e+06</td>\n",
       "    </tr>\n",
       "    <tr>\n",
       "      <th>Vlogs diarios</th>\n",
       "      <td>3.414338e+06</td>\n",
       "    </tr>\n",
       "    <tr>\n",
       "      <th>Comida y bebida</th>\n",
       "      <td>2.722450e+06</td>\n",
       "    </tr>\n",
       "    <tr>\n",
       "      <th>Diseño/arte, Belleza</th>\n",
       "      <td>2.700000e+06</td>\n",
       "    </tr>\n",
       "    <tr>\n",
       "      <th>Diseño/arte, DIY y Life Hacks</th>\n",
       "      <td>2.600000e+06</td>\n",
       "    </tr>\n",
       "    <tr>\n",
       "      <th>Música y baile, Humor</th>\n",
       "      <td>2.402933e+06</td>\n",
       "    </tr>\n",
       "    <tr>\n",
       "      <th>Humor</th>\n",
       "      <td>2.310400e+06</td>\n",
       "    </tr>\n",
       "    <tr>\n",
       "      <th>DIY y Life Hacks, Juguetes</th>\n",
       "      <td>2.300000e+06</td>\n",
       "    </tr>\n",
       "    <tr>\n",
       "      <th>Animales y mascotas</th>\n",
       "      <td>2.231450e+06</td>\n",
       "    </tr>\n",
       "  </tbody>\n",
       "</table>\n",
       "</div>"
      ],
      "text/plain": [
       "                                     Visits\n",
       "Categories                                 \n",
       "Videojuegos, Humor             1.023968e+07\n",
       "Animación, Humor               3.760126e+06\n",
       "Vlogs diarios                  3.414338e+06\n",
       "Comida y bebida                2.722450e+06\n",
       "Diseño/arte, Belleza           2.700000e+06\n",
       "Diseño/arte, DIY y Life Hacks  2.600000e+06\n",
       "Música y baile, Humor          2.402933e+06\n",
       "Humor                          2.310400e+06\n",
       "DIY y Life Hacks, Juguetes     2.300000e+06\n",
       "Animales y mascotas            2.231450e+06"
      ]
     },
     "execution_count": 22,
     "metadata": {},
     "output_type": "execute_result"
    }
   ],
   "source": [
    "category_views=pd.DataFrame(data.groupby('Categories')['Visits'].mean().sort_values(ascending=False))[:10]\n",
    "category_views"
   ]
  },
  {
   "cell_type": "code",
   "execution_count": 23,
   "id": "8f1f30f1-cb6c-4119-92b9-31e36fe636de",
   "metadata": {},
   "outputs": [
    {
     "data": {
      "text/html": [
       "<div>\n",
       "<style scoped>\n",
       "    .dataframe tbody tr th:only-of-type {\n",
       "        vertical-align: middle;\n",
       "    }\n",
       "\n",
       "    .dataframe tbody tr th {\n",
       "        vertical-align: top;\n",
       "    }\n",
       "\n",
       "    .dataframe thead th {\n",
       "        text-align: right;\n",
       "    }\n",
       "</style>\n",
       "<table border=\"1\" class=\"dataframe\">\n",
       "  <thead>\n",
       "    <tr style=\"text-align: right;\">\n",
       "      <th></th>\n",
       "      <th>Suscribers</th>\n",
       "    </tr>\n",
       "    <tr>\n",
       "      <th>Username</th>\n",
       "      <th></th>\n",
       "    </tr>\n",
       "  </thead>\n",
       "  <tbody>\n",
       "    <tr>\n",
       "      <th>tseries</th>\n",
       "      <td>249500000.0</td>\n",
       "    </tr>\n",
       "    <tr>\n",
       "      <th>MrBeast</th>\n",
       "      <td>183500000.0</td>\n",
       "    </tr>\n",
       "    <tr>\n",
       "      <th>CoComelon</th>\n",
       "      <td>165500000.0</td>\n",
       "    </tr>\n",
       "    <tr>\n",
       "      <th>SETIndia</th>\n",
       "      <td>162600000.0</td>\n",
       "    </tr>\n",
       "    <tr>\n",
       "      <th>KidsDianaShow</th>\n",
       "      <td>113500000.0</td>\n",
       "    </tr>\n",
       "    <tr>\n",
       "      <th>PewDiePie</th>\n",
       "      <td>111500000.0</td>\n",
       "    </tr>\n",
       "    <tr>\n",
       "      <th>LikeNastyaofficial</th>\n",
       "      <td>107500000.0</td>\n",
       "    </tr>\n",
       "    <tr>\n",
       "      <th>VladandNiki</th>\n",
       "      <td>101400000.0</td>\n",
       "    </tr>\n",
       "    <tr>\n",
       "      <th>zeemusiccompany</th>\n",
       "      <td>99700000.0</td>\n",
       "    </tr>\n",
       "    <tr>\n",
       "      <th>WWE</th>\n",
       "      <td>97200000.0</td>\n",
       "    </tr>\n",
       "  </tbody>\n",
       "</table>\n",
       "</div>"
      ],
      "text/plain": [
       "                     Suscribers\n",
       "Username                       \n",
       "tseries             249500000.0\n",
       "MrBeast             183500000.0\n",
       "CoComelon           165500000.0\n",
       "SETIndia            162600000.0\n",
       "KidsDianaShow       113500000.0\n",
       "PewDiePie           111500000.0\n",
       "LikeNastyaofficial  107500000.0\n",
       "VladandNiki         101400000.0\n",
       "zeemusiccompany      99700000.0\n",
       "WWE                  97200000.0"
      ]
     },
     "execution_count": 23,
     "metadata": {},
     "output_type": "execute_result"
    }
   ],
   "source": [
    "streamer_views=pd.DataFrame(data.groupby('Username')['Suscribers'].mean().sort_values(ascending=False))[:10]\n",
    "streamer_views"
   ]
  },
  {
   "cell_type": "code",
   "execution_count": 24,
   "id": "ff60b2e4-2567-4a88-9ab0-0a520eb2a03d",
   "metadata": {},
   "outputs": [
    {
     "data": {
      "text/plain": [
       "<Figure size 720x360 with 0 Axes>"
      ]
     },
     "metadata": {},
     "output_type": "display_data"
    },
    {
     "data": {
      "image/png": "[encoded data removed]",
      "text/plain": [
       "<Figure size 432x288 with 1 Axes>"
      ]
     },
     "metadata": {
      "needs_background": "light"
     },
     "output_type": "display_data"
    }
   ],
   "source": [
    "plt.figure(figsize=(10,5))\n",
    "streamer_views.head(n=10).plot(kind='bar')\n",
    "plt.title('Top 10 youtube streamers by average suscribers',color='red',loc='left',weight='bold',pad=8)\n",
    "plt.xlabel('Streamer')\n",
    "plt.ylabel('Avg suscribers')\n",
    "plt.show()\n"
   ]
  },
  {
   "cell_type": "code",
   "execution_count": 25,
   "id": "bde99dd1-e8d6-40f5-a893-f26e3bb05725",
   "metadata": {},
   "outputs": [],
   "source": [
    "correlation_matrix=data.corr()"
   ]
  },
  {
   "cell_type": "code",
   "execution_count": 26,
   "id": "aaeee487-5c7d-4dbf-913f-e90347227693",
   "metadata": {},
   "outputs": [
    {
     "data": {
      "image/png": "[encoded data removed]",
      "text/plain": [
       "<Figure size 720x360 with 2 Axes>"
      ]
     },
     "metadata": {
      "needs_background": "light"
     },
     "output_type": "display_data"
    }
   ],
   "source": [
    "plt.figure(figsize=(10,5))\n",
    "sns.heatmap(correlation_matrix,annot=True,cmap='coolwarm',linewidth=0.5)\n",
    "plt.title('Correlation Matrix',weight='bold',pad=8)\n",
    "plt.show()"
   ]
  },
  {
   "cell_type": "code",
   "execution_count": null,
   "id": "e549e2f9-99e4-49ef-aa2c-8dff6655c71b",
   "metadata": {},
   "outputs": [],
   "source": []
  },
  {
   "cell_type": "code",
   "execution_count": 27,
   "id": "4aadb7c9-2d0b-4422-aac5-8d26dd0ccbcf",
   "metadata": {},
   "outputs": [
    {
     "data": {
      "text/plain": [
       "Index(['Rank', 'Username', 'Categories', 'Suscribers', 'Country', 'Visits',\n",
       "       'Likes', 'Comments', 'Links'],\n",
       "      dtype='object')"
      ]
     },
     "execution_count": 27,
     "metadata": {},
     "output_type": "execute_result"
    }
   ],
   "source": [
    "data.columns"
   ]
  },
  {
   "cell_type": "code",
   "execution_count": 28,
   "id": "f0b5b892-9190-4d17-a8a1-f241e8ba72b8",
   "metadata": {},
   "outputs": [
    {
     "data": {
      "text/plain": [
       "Username\n",
       "mgcplayhouse      2\n",
       "HiTechIslamic     2\n",
       "thexoteam         2\n",
       "NickyJamTV        2\n",
       "Family-Box        2\n",
       "                 ..\n",
       "MariaClaraeJP     1\n",
       "MarkRober         1\n",
       "MartaAndRustam    1\n",
       "MartinGarrix      1\n",
       "zutigang          1\n",
       "Name: Country, Length: 994, dtype: int64"
      ]
     },
     "execution_count": 28,
     "metadata": {},
     "output_type": "execute_result"
    }
   ],
   "source": [
    "data.groupby('Username')['Country'].count().sort_values(ascending=False)"
   ]
  },
  {
   "cell_type": "code",
   "execution_count": 29,
   "id": "43ea0e88-ab24-449a-8c26-c9b56c39735b",
   "metadata": {},
   "outputs": [],
   "source": [
    "grouped_datagrouped_data=pd.DataFrame(data.groupby(['Country','Username'])['Suscribers'].sum())"
   ]
  },
  {
   "cell_type": "code",
   "execution_count": 30,
   "id": "41de3a36-e4ac-4942-97ab-5729007a9aaf",
   "metadata": {},
   "outputs": [
    {
     "data": {
      "text/html": [
       "<div>\n",
       "<style scoped>\n",
       "    .dataframe tbody tr th:only-of-type {\n",
       "        vertical-align: middle;\n",
       "    }\n",
       "\n",
       "    .dataframe tbody tr th {\n",
       "        vertical-align: top;\n",
       "    }\n",
       "\n",
       "    .dataframe thead th {\n",
       "        text-align: right;\n",
       "    }\n",
       "</style>\n",
       "<table border=\"1\" class=\"dataframe\">\n",
       "  <thead>\n",
       "    <tr style=\"text-align: right;\">\n",
       "      <th></th>\n",
       "      <th></th>\n",
       "      <th>Suscribers</th>\n",
       "    </tr>\n",
       "    <tr>\n",
       "      <th>Country</th>\n",
       "      <th>Categories</th>\n",
       "      <th></th>\n",
       "    </tr>\n",
       "  </thead>\n",
       "  <tbody>\n",
       "    <tr>\n",
       "      <th rowspan=\"2\" valign=\"top\">Arabia Saudita</th>\n",
       "      <th>Animación, Videojuegos</th>\n",
       "      <td>13600000.0</td>\n",
       "    </tr>\n",
       "    <tr>\n",
       "      <th>Música y baile</th>\n",
       "      <td>61000000.0</td>\n",
       "    </tr>\n",
       "    <tr>\n",
       "      <th rowspan=\"2\" valign=\"top\">Argelia</th>\n",
       "      <th>Educación</th>\n",
       "      <td>12200000.0</td>\n",
       "    </tr>\n",
       "    <tr>\n",
       "      <th>Música y baile</th>\n",
       "      <td>19300000.0</td>\n",
       "    </tr>\n",
       "    <tr>\n",
       "      <th>Argentina</th>\n",
       "      <th>Animación</th>\n",
       "      <td>25700000.0</td>\n",
       "    </tr>\n",
       "    <tr>\n",
       "      <th>...</th>\n",
       "      <th>...</th>\n",
       "      <td>...</td>\n",
       "    </tr>\n",
       "    <tr>\n",
       "      <th rowspan=\"5\" valign=\"top\">Unknown</th>\n",
       "      <th>Películas, Humor</th>\n",
       "      <td>113000000.0</td>\n",
       "    </tr>\n",
       "    <tr>\n",
       "      <th>Películas, Juguetes</th>\n",
       "      <td>191700000.0</td>\n",
       "    </tr>\n",
       "    <tr>\n",
       "      <th>Películas, Videojuegos</th>\n",
       "      <td>28700000.0</td>\n",
       "    </tr>\n",
       "    <tr>\n",
       "      <th>Videojuegos, Juguetes</th>\n",
       "      <td>50500000.0</td>\n",
       "    </tr>\n",
       "    <tr>\n",
       "      <th>Vlogs diarios</th>\n",
       "      <td>119800000.0</td>\n",
       "    </tr>\n",
       "  </tbody>\n",
       "</table>\n",
       "<p>181 rows × 1 columns</p>\n",
       "</div>"
      ],
      "text/plain": [
       "                                        Suscribers\n",
       "Country        Categories                         \n",
       "Arabia Saudita Animación, Videojuegos   13600000.0\n",
       "               Música y baile           61000000.0\n",
       "Argelia        Educación                12200000.0\n",
       "               Música y baile           19300000.0\n",
       "Argentina      Animación                25700000.0\n",
       "...                                            ...\n",
       "Unknown        Películas, Humor        113000000.0\n",
       "               Películas, Juguetes     191700000.0\n",
       "               Películas, Videojuegos   28700000.0\n",
       "               Videojuegos, Juguetes    50500000.0\n",
       "               Vlogs diarios           119800000.0\n",
       "\n",
       "[181 rows x 1 columns]"
      ]
     },
     "execution_count": 30,
     "metadata": {},
     "output_type": "execute_result"
    }
   ],
   "source": [
    "group_data=pd.DataFrame(data.groupby(['Country','Categories'])['Suscribers'].sum())\n",
    "group_data"
   ]
  },
  {
   "cell_type": "code",
   "execution_count": 31,
   "id": "29f73399-03da-44bd-8bbf-6a28e33941df",
   "metadata": {},
   "outputs": [],
   "source": [
    "heatmap_data=pd.pivot_table(group_data,index='Country',columns='Categories',values='Suscribers',aggfunc='sum',fill_value=0)"
   ]
  },
  {
   "cell_type": "code",
   "execution_count": 32,
   "id": "c2ca8823-5b56-48ad-99a9-a10dddec03c8",
   "metadata": {},
   "outputs": [
    {
     "data": {
      "image/png": "[encoded data removed]",
      "text/plain": [
       "<Figure size 720x360 with 2 Axes>"
      ]
     },
     "metadata": {
      "needs_background": "light"
     },
     "output_type": "display_data"
    }
   ],
   "source": [
    "plt.figure(figsize=(10,5))\n",
    "sns.heatmap(heatmap_data,cmap='YlGnBu',linewidths=.5)\n",
    "plt.title('Audience Distribution by Country and Category')\n",
    "plt.show()"
   ]
  },
  {
   "cell_type": "code",
   "execution_count": 33,
   "id": "56e16f00-5acf-4d67-8319-1db7e43fc943",
   "metadata": {},
   "outputs": [
    {
     "data": {
      "text/plain": [
       "Suscribers    2.189440e+07\n",
       "Visits        1.209446e+06\n",
       "Likes         5.363259e+04\n",
       "Comments      1.288768e+03\n",
       "dtype: float64"
      ]
     },
     "execution_count": 33,
     "metadata": {},
     "output_type": "execute_result"
    }
   ],
   "source": [
    "avg=data[['Suscribers','Visits','Likes','Comments']].mean()\n",
    "avg"
   ]
  },
  {
   "cell_type": "code",
   "execution_count": 34,
   "id": "df1d5cba-dffc-4375-9913-e3d344fd9b01",
   "metadata": {},
   "outputs": [
    {
     "data": {
      "image/png": "[encoded data removed]",
      "text/plain": [
       "<Figure size 720x360 with 1 Axes>"
      ]
     },
     "metadata": {
      "needs_background": "light"
     },
     "output_type": "display_data"
    }
   ],
   "source": [
    "plt.figure(figsize=(10,5))\n",
    "avg.plot(kind='bar',color=['skyblue','lightgreen','lightcoral','gold'])\n",
    "plt.title('Average comparison',color='red')\n",
    "plt.xlabel('Metric')\n",
    "plt.ylabel('Average value')\n",
    "plt.show()"
   ]
  },
  {
   "cell_type": "code",
   "execution_count": 35,
   "id": "6a81e6ff-749b-4f42-9125-19f85f5b31ca",
   "metadata": {},
   "outputs": [
    {
     "data": {
      "text/html": [
       "<div>\n",
       "<style scoped>\n",
       "    .dataframe tbody tr th:only-of-type {\n",
       "        vertical-align: middle;\n",
       "    }\n",
       "\n",
       "    .dataframe tbody tr th {\n",
       "        vertical-align: top;\n",
       "    }\n",
       "\n",
       "    .dataframe thead th {\n",
       "        text-align: right;\n",
       "    }\n",
       "</style>\n",
       "<table border=\"1\" class=\"dataframe\">\n",
       "  <thead>\n",
       "    <tr style=\"text-align: right;\">\n",
       "      <th></th>\n",
       "      <th>Username</th>\n",
       "    </tr>\n",
       "    <tr>\n",
       "      <th>Categories</th>\n",
       "      <th></th>\n",
       "    </tr>\n",
       "  </thead>\n",
       "  <tbody>\n",
       "    <tr>\n",
       "      <th>Música y baile</th>\n",
       "      <td>464</td>\n",
       "    </tr>\n",
       "    <tr>\n",
       "      <th>Películas, Animación</th>\n",
       "      <td>61</td>\n",
       "    </tr>\n",
       "    <tr>\n",
       "      <th>Música y baile, Películas</th>\n",
       "      <td>40</td>\n",
       "    </tr>\n",
       "    <tr>\n",
       "      <th>Vlogs diarios</th>\n",
       "      <td>37</td>\n",
       "    </tr>\n",
       "    <tr>\n",
       "      <th>Noticias y Política</th>\n",
       "      <td>36</td>\n",
       "    </tr>\n",
       "    <tr>\n",
       "      <th>Animación, Videojuegos</th>\n",
       "      <td>34</td>\n",
       "    </tr>\n",
       "    <tr>\n",
       "      <th>Películas, Humor</th>\n",
       "      <td>34</td>\n",
       "    </tr>\n",
       "    <tr>\n",
       "      <th>Animación, Juguetes</th>\n",
       "      <td>28</td>\n",
       "    </tr>\n",
       "    <tr>\n",
       "      <th>Animación, Humor</th>\n",
       "      <td>27</td>\n",
       "    </tr>\n",
       "    <tr>\n",
       "      <th>Educación</th>\n",
       "      <td>24</td>\n",
       "    </tr>\n",
       "  </tbody>\n",
       "</table>\n",
       "</div>"
      ],
      "text/plain": [
       "                           Username\n",
       "Categories                         \n",
       "Música y baile                  464\n",
       "Películas, Animación             61\n",
       "Música y baile, Películas        40\n",
       "Vlogs diarios                    37\n",
       "Noticias y Política              36\n",
       "Animación, Videojuegos           34\n",
       "Películas, Humor                 34\n",
       "Animación, Juguetes              28\n",
       "Animación, Humor                 27\n",
       "Educación                        24"
      ]
     },
     "execution_count": 35,
     "metadata": {},
     "output_type": "execute_result"
    }
   ],
   "source": [
    "cat=pd.DataFrame(data.groupby('Categories')['Username'].nunique().sort_values(ascending=False))[:10]\n",
    "cat"
   ]
  },
  {
   "cell_type": "code",
   "execution_count": 36,
   "id": "53f44825-980f-4657-9975-63044f85a7eb",
   "metadata": {},
   "outputs": [
    {
     "data": {
      "text/plain": [
       "Username    Música y baile\n",
       "dtype: object"
      ]
     },
     "execution_count": 36,
     "metadata": {},
     "output_type": "execute_result"
    }
   ],
   "source": [
    "cat.idxmax()"
   ]
  },
  {
   "cell_type": "code",
   "execution_count": 37,
   "id": "0e9b7ebf-d12d-4b42-92b1-1317a1a6bb60",
   "metadata": {},
   "outputs": [
    {
     "data": {
      "text/html": [
       "<div>\n",
       "<style scoped>\n",
       "    .dataframe tbody tr th:only-of-type {\n",
       "        vertical-align: middle;\n",
       "    }\n",
       "\n",
       "    .dataframe tbody tr th {\n",
       "        vertical-align: top;\n",
       "    }\n",
       "\n",
       "    .dataframe thead th {\n",
       "        text-align: right;\n",
       "    }\n",
       "</style>\n",
       "<table border=\"1\" class=\"dataframe\">\n",
       "  <thead>\n",
       "    <tr style=\"text-align: right;\">\n",
       "      <th></th>\n",
       "      <th>Visits</th>\n",
       "      <th>Likes</th>\n",
       "      <th>Comments</th>\n",
       "    </tr>\n",
       "    <tr>\n",
       "      <th>Categories</th>\n",
       "      <th></th>\n",
       "      <th></th>\n",
       "      <th></th>\n",
       "    </tr>\n",
       "  </thead>\n",
       "  <tbody>\n",
       "    <tr>\n",
       "      <th>Música y baile</th>\n",
       "      <td>429102015.5</td>\n",
       "      <td>19306824.0</td>\n",
       "      <td>526794.0</td>\n",
       "    </tr>\n",
       "    <tr>\n",
       "      <th>Videojuegos, Humor</th>\n",
       "      <td>174074500.0</td>\n",
       "      <td>7148700.0</td>\n",
       "      <td>82060.0</td>\n",
       "    </tr>\n",
       "    <tr>\n",
       "      <th>Vlogs diarios</th>\n",
       "      <td>126330500.0</td>\n",
       "      <td>6928063.0</td>\n",
       "      <td>36275.0</td>\n",
       "    </tr>\n",
       "    <tr>\n",
       "      <th>Animación, Humor</th>\n",
       "      <td>101523400.0</td>\n",
       "      <td>3935745.0</td>\n",
       "      <td>144314.0</td>\n",
       "    </tr>\n",
       "    <tr>\n",
       "      <th>Animación, Videojuegos</th>\n",
       "      <td>40802000.0</td>\n",
       "      <td>2695997.0</td>\n",
       "      <td>128745.0</td>\n",
       "    </tr>\n",
       "    <tr>\n",
       "      <th>Películas, Animación</th>\n",
       "      <td>33631100.0</td>\n",
       "      <td>1565932.0</td>\n",
       "      <td>39385.0</td>\n",
       "    </tr>\n",
       "    <tr>\n",
       "      <th>Comida y bebida</th>\n",
       "      <td>32669400.0</td>\n",
       "      <td>1543977.0</td>\n",
       "      <td>36641.0</td>\n",
       "    </tr>\n",
       "    <tr>\n",
       "      <th>Películas, Humor</th>\n",
       "      <td>31916600.0</td>\n",
       "      <td>1383277.0</td>\n",
       "      <td>34299.0</td>\n",
       "    </tr>\n",
       "    <tr>\n",
       "      <th>Educación</th>\n",
       "      <td>26545000.0</td>\n",
       "      <td>1081458.0</td>\n",
       "      <td>36894.0</td>\n",
       "    </tr>\n",
       "    <tr>\n",
       "      <th>Videojuegos</th>\n",
       "      <td>26355600.0</td>\n",
       "      <td>1085300.0</td>\n",
       "      <td>33443.0</td>\n",
       "    </tr>\n",
       "  </tbody>\n",
       "</table>\n",
       "</div>"
      ],
      "text/plain": [
       "                             Visits       Likes  Comments\n",
       "Categories                                               \n",
       "Música y baile          429102015.5  19306824.0  526794.0\n",
       "Videojuegos, Humor      174074500.0   7148700.0   82060.0\n",
       "Vlogs diarios           126330500.0   6928063.0   36275.0\n",
       "Animación, Humor        101523400.0   3935745.0  144314.0\n",
       "Animación, Videojuegos   40802000.0   2695997.0  128745.0\n",
       "Películas, Animación     33631100.0   1565932.0   39385.0\n",
       "Comida y bebida          32669400.0   1543977.0   36641.0\n",
       "Películas, Humor         31916600.0   1383277.0   34299.0\n",
       "Educación                26545000.0   1081458.0   36894.0\n",
       "Videojuegos              26355600.0   1085300.0   33443.0"
      ]
     },
     "execution_count": 37,
     "metadata": {},
     "output_type": "execute_result"
    }
   ],
   "source": [
    "exception=data.groupby('Categories')[['Visits','Likes','Comments']].sum().sort_values('Visits',ascending=False)[:10]\n",
    "exception"
   ]
  },
  {
   "cell_type": "code",
   "execution_count": 38,
   "id": "16464ae0-0135-439c-b76f-81b423464256",
   "metadata": {},
   "outputs": [
    {
     "data": {
      "text/plain": [
       "Visits      Música y baile\n",
       "Likes       Música y baile\n",
       "Comments    Música y baile\n",
       "dtype: object"
      ]
     },
     "execution_count": 38,
     "metadata": {},
     "output_type": "execute_result"
    }
   ],
   "source": [
    "exception.idxmax()"
   ]
  },
  {
   "cell_type": "markdown",
   "id": "3f55ca26-bd5c-4a1a-87f0-6f531a25fde1",
   "metadata": {},
   "source": [
    "### Brands and Collaborations"
   ]
  },
  {
   "cell_type": "code",
   "execution_count": 57,
   "id": "50d63fcd-f71c-4d85-9113-42152a43b0bb",
   "metadata": {},
   "outputs": [
    {
     "data": {
      "image/png": "[encoded data removed]",
      "text/plain": [
       "<Figure size 432x288 with 1 Axes>"
      ]
     },
     "metadata": {
      "needs_background": "light"
     },
     "output_type": "display_data"
    }
   ],
   "source": [
    "sample_data=data.sample(n=100)\n",
    "plt.scatter(x='Suscribers',y='Links',data=sample_data)\n",
    "plt.xlabel('Suscribers')\n",
    "plt.ylabel('Brands and Collaborations')\n",
    "plt.yscale('log')\n",
    "plt.show()"
   ]
  },
  {
   "cell_type": "markdown",
   "id": "23c8e494-341d-4abe-a140-213b641c63e3",
   "metadata": {},
   "source": [
    "## Top Streamers"
   ]
  },
  {
   "cell_type": "code",
   "execution_count": 40,
   "id": "dcf65c96-a4d7-402b-bde2-a35301718892",
   "metadata": {},
   "outputs": [
    {
     "data": {
      "text/plain": [
       "1209446.3155"
      ]
     },
     "execution_count": 40,
     "metadata": {},
     "output_type": "execute_result"
    }
   ],
   "source": [
    "data.Visits.mean()"
   ]
  },
  {
   "cell_type": "code",
   "execution_count": 41,
   "id": "60d94df7-06b7-4c52-b571-b17a604bc2b5",
   "metadata": {},
   "outputs": [
    {
     "data": {
      "text/html": [
       "<div>\n",
       "<style scoped>\n",
       "    .dataframe tbody tr th:only-of-type {\n",
       "        vertical-align: middle;\n",
       "    }\n",
       "\n",
       "    .dataframe tbody tr th {\n",
       "        vertical-align: top;\n",
       "    }\n",
       "\n",
       "    .dataframe thead th {\n",
       "        text-align: right;\n",
       "    }\n",
       "</style>\n",
       "<table border=\"1\" class=\"dataframe\">\n",
       "  <thead>\n",
       "    <tr style=\"text-align: right;\">\n",
       "      <th></th>\n",
       "      <th>Rank</th>\n",
       "      <th>Username</th>\n",
       "      <th>Categories</th>\n",
       "      <th>Suscribers</th>\n",
       "      <th>Country</th>\n",
       "      <th>Visits</th>\n",
       "      <th>Likes</th>\n",
       "      <th>Comments</th>\n",
       "      <th>Links</th>\n",
       "    </tr>\n",
       "  </thead>\n",
       "  <tbody>\n",
       "    <tr>\n",
       "      <th>1</th>\n",
       "      <td>2</td>\n",
       "      <td>MrBeast</td>\n",
       "      <td>Videojuegos, Humor</td>\n",
       "      <td>183500000.0</td>\n",
       "      <td>Estados Unidos</td>\n",
       "      <td>117400000.0</td>\n",
       "      <td>5300000.0</td>\n",
       "      <td>18500.0</td>\n",
       "      <td>http://youtube.com/channel/UCX6OQ3DkcsbYNE6H8u...</td>\n",
       "    </tr>\n",
       "    <tr>\n",
       "      <th>2</th>\n",
       "      <td>3</td>\n",
       "      <td>CoComelon</td>\n",
       "      <td>Educación</td>\n",
       "      <td>165500000.0</td>\n",
       "      <td>Unknown</td>\n",
       "      <td>7000000.0</td>\n",
       "      <td>24700.0</td>\n",
       "      <td>0.0</td>\n",
       "      <td>http://youtube.com/channel/UCbCmjCuTUZos6Inko4...</td>\n",
       "    </tr>\n",
       "    <tr>\n",
       "      <th>4</th>\n",
       "      <td>5</td>\n",
       "      <td>KidsDianaShow</td>\n",
       "      <td>Animación, Juguetes</td>\n",
       "      <td>113500000.0</td>\n",
       "      <td>Unknown</td>\n",
       "      <td>3900000.0</td>\n",
       "      <td>12400.0</td>\n",
       "      <td>0.0</td>\n",
       "      <td>http://youtube.com/channel/UCk8GzjMOrta8yxDcKf...</td>\n",
       "    </tr>\n",
       "    <tr>\n",
       "      <th>5</th>\n",
       "      <td>6</td>\n",
       "      <td>PewDiePie</td>\n",
       "      <td>Películas, Videojuegos</td>\n",
       "      <td>111500000.0</td>\n",
       "      <td>Estados Unidos</td>\n",
       "      <td>2400000.0</td>\n",
       "      <td>197300.0</td>\n",
       "      <td>4900.0</td>\n",
       "      <td>http://youtube.com/channel/UC-lHJZR3Gqxm24_Vd_...</td>\n",
       "    </tr>\n",
       "    <tr>\n",
       "      <th>6</th>\n",
       "      <td>7</td>\n",
       "      <td>LikeNastyaofficial</td>\n",
       "      <td>Juguetes</td>\n",
       "      <td>107500000.0</td>\n",
       "      <td>Unknown</td>\n",
       "      <td>2600000.0</td>\n",
       "      <td>28000.0</td>\n",
       "      <td>0.0</td>\n",
       "      <td>http://youtube.com/channel/UCJplp5SjeGSdVdwsfb...</td>\n",
       "    </tr>\n",
       "  </tbody>\n",
       "</table>\n",
       "</div>"
      ],
      "text/plain": [
       "   Rank            Username              Categories   Suscribers  \\\n",
       "1     2             MrBeast      Videojuegos, Humor  183500000.0   \n",
       "2     3           CoComelon               Educación  165500000.0   \n",
       "4     5       KidsDianaShow     Animación, Juguetes  113500000.0   \n",
       "5     6           PewDiePie  Películas, Videojuegos  111500000.0   \n",
       "6     7  LikeNastyaofficial                Juguetes  107500000.0   \n",
       "\n",
       "          Country       Visits      Likes  Comments  \\\n",
       "1  Estados Unidos  117400000.0  5300000.0   18500.0   \n",
       "2         Unknown    7000000.0    24700.0       0.0   \n",
       "4         Unknown    3900000.0    12400.0       0.0   \n",
       "5  Estados Unidos    2400000.0   197300.0    4900.0   \n",
       "6         Unknown    2600000.0    28000.0       0.0   \n",
       "\n",
       "                                               Links  \n",
       "1  http://youtube.com/channel/UCX6OQ3DkcsbYNE6H8u...  \n",
       "2  http://youtube.com/channel/UCbCmjCuTUZos6Inko4...  \n",
       "4  http://youtube.com/channel/UCk8GzjMOrta8yxDcKf...  \n",
       "5  http://youtube.com/channel/UC-lHJZR3Gqxm24_Vd_...  \n",
       "6  http://youtube.com/channel/UCJplp5SjeGSdVdwsfb...  "
      ]
     },
     "execution_count": 41,
     "metadata": {},
     "output_type": "execute_result"
    }
   ],
   "source": [
    "above_avg1=data.loc[data['Visits']>data.Visits.mean()]\n",
    "above_avg1.head()"
   ]
  },
  {
   "cell_type": "code",
   "execution_count": 42,
   "id": "e8f47306-2684-41df-aa0c-59f304a1f4de",
   "metadata": {},
   "outputs": [
    {
     "data": {
      "text/html": [
       "<div>\n",
       "<style scoped>\n",
       "    .dataframe tbody tr th:only-of-type {\n",
       "        vertical-align: middle;\n",
       "    }\n",
       "\n",
       "    .dataframe tbody tr th {\n",
       "        vertical-align: top;\n",
       "    }\n",
       "\n",
       "    .dataframe thead th {\n",
       "        text-align: right;\n",
       "    }\n",
       "</style>\n",
       "<table border=\"1\" class=\"dataframe\">\n",
       "  <thead>\n",
       "    <tr style=\"text-align: right;\">\n",
       "      <th></th>\n",
       "      <th>Rank</th>\n",
       "      <th>Username</th>\n",
       "      <th>Categories</th>\n",
       "      <th>Suscribers</th>\n",
       "      <th>Country</th>\n",
       "      <th>Visits</th>\n",
       "      <th>Likes</th>\n",
       "      <th>Comments</th>\n",
       "      <th>Links</th>\n",
       "    </tr>\n",
       "  </thead>\n",
       "  <tbody>\n",
       "    <tr>\n",
       "      <th>0</th>\n",
       "      <td>1</td>\n",
       "      <td>tseries</td>\n",
       "      <td>Música y baile</td>\n",
       "      <td>249500000.0</td>\n",
       "      <td>India</td>\n",
       "      <td>86200.0</td>\n",
       "      <td>2700.0</td>\n",
       "      <td>78.0</td>\n",
       "      <td>http://youtube.com/channel/UCq-Fj5jknLsUf-MWSy...</td>\n",
       "    </tr>\n",
       "    <tr>\n",
       "      <th>1</th>\n",
       "      <td>2</td>\n",
       "      <td>MrBeast</td>\n",
       "      <td>Videojuegos, Humor</td>\n",
       "      <td>183500000.0</td>\n",
       "      <td>Estados Unidos</td>\n",
       "      <td>117400000.0</td>\n",
       "      <td>5300000.0</td>\n",
       "      <td>18500.0</td>\n",
       "      <td>http://youtube.com/channel/UCX6OQ3DkcsbYNE6H8u...</td>\n",
       "    </tr>\n",
       "    <tr>\n",
       "      <th>2</th>\n",
       "      <td>3</td>\n",
       "      <td>CoComelon</td>\n",
       "      <td>Educación</td>\n",
       "      <td>165500000.0</td>\n",
       "      <td>Unknown</td>\n",
       "      <td>7000000.0</td>\n",
       "      <td>24700.0</td>\n",
       "      <td>0.0</td>\n",
       "      <td>http://youtube.com/channel/UCbCmjCuTUZos6Inko4...</td>\n",
       "    </tr>\n",
       "    <tr>\n",
       "      <th>3</th>\n",
       "      <td>4</td>\n",
       "      <td>SETIndia</td>\n",
       "      <td>Música y baile</td>\n",
       "      <td>162600000.0</td>\n",
       "      <td>India</td>\n",
       "      <td>15600.0</td>\n",
       "      <td>166.0</td>\n",
       "      <td>9.0</td>\n",
       "      <td>http://youtube.com/channel/UCpEhnqL0y41EpW2TvW...</td>\n",
       "    </tr>\n",
       "    <tr>\n",
       "      <th>4</th>\n",
       "      <td>5</td>\n",
       "      <td>KidsDianaShow</td>\n",
       "      <td>Animación, Juguetes</td>\n",
       "      <td>113500000.0</td>\n",
       "      <td>Unknown</td>\n",
       "      <td>3900000.0</td>\n",
       "      <td>12400.0</td>\n",
       "      <td>0.0</td>\n",
       "      <td>http://youtube.com/channel/UCk8GzjMOrta8yxDcKf...</td>\n",
       "    </tr>\n",
       "  </tbody>\n",
       "</table>\n",
       "</div>"
      ],
      "text/plain": [
       "   Rank       Username           Categories   Suscribers         Country  \\\n",
       "0     1        tseries       Música y baile  249500000.0           India   \n",
       "1     2        MrBeast   Videojuegos, Humor  183500000.0  Estados Unidos   \n",
       "2     3      CoComelon            Educación  165500000.0         Unknown   \n",
       "3     4       SETIndia       Música y baile  162600000.0           India   \n",
       "4     5  KidsDianaShow  Animación, Juguetes  113500000.0         Unknown   \n",
       "\n",
       "        Visits      Likes  Comments  \\\n",
       "0      86200.0     2700.0      78.0   \n",
       "1  117400000.0  5300000.0   18500.0   \n",
       "2    7000000.0    24700.0       0.0   \n",
       "3      15600.0      166.0       9.0   \n",
       "4    3900000.0    12400.0       0.0   \n",
       "\n",
       "                                               Links  \n",
       "0  http://youtube.com/channel/UCq-Fj5jknLsUf-MWSy...  \n",
       "1  http://youtube.com/channel/UCX6OQ3DkcsbYNE6H8u...  \n",
       "2  http://youtube.com/channel/UCbCmjCuTUZos6Inko4...  \n",
       "3  http://youtube.com/channel/UCpEhnqL0y41EpW2TvW...  \n",
       "4  http://youtube.com/channel/UCk8GzjMOrta8yxDcKf...  "
      ]
     },
     "execution_count": 42,
     "metadata": {},
     "output_type": "execute_result"
    }
   ],
   "source": [
    "above_avg2=data.loc[data['Suscribers']>data.Suscribers.mean()]\n",
    "above_avg2.head()"
   ]
  },
  {
   "cell_type": "code",
   "execution_count": 43,
   "id": "df846f36-eb7b-44f2-9e7e-6916adaa3ba0",
   "metadata": {},
   "outputs": [
    {
     "data": {
      "text/html": [
       "<div>\n",
       "<style scoped>\n",
       "    .dataframe tbody tr th:only-of-type {\n",
       "        vertical-align: middle;\n",
       "    }\n",
       "\n",
       "    .dataframe tbody tr th {\n",
       "        vertical-align: top;\n",
       "    }\n",
       "\n",
       "    .dataframe thead th {\n",
       "        text-align: right;\n",
       "    }\n",
       "</style>\n",
       "<table border=\"1\" class=\"dataframe\">\n",
       "  <thead>\n",
       "    <tr style=\"text-align: right;\">\n",
       "      <th></th>\n",
       "      <th>Rank</th>\n",
       "      <th>Username</th>\n",
       "      <th>Categories</th>\n",
       "      <th>Suscribers</th>\n",
       "      <th>Country</th>\n",
       "      <th>Visits</th>\n",
       "      <th>Likes</th>\n",
       "      <th>Comments</th>\n",
       "      <th>Links</th>\n",
       "    </tr>\n",
       "  </thead>\n",
       "  <tbody>\n",
       "    <tr>\n",
       "      <th>1</th>\n",
       "      <td>2</td>\n",
       "      <td>MrBeast</td>\n",
       "      <td>Videojuegos, Humor</td>\n",
       "      <td>183500000.0</td>\n",
       "      <td>Estados Unidos</td>\n",
       "      <td>117400000.0</td>\n",
       "      <td>5300000.0</td>\n",
       "      <td>18500.0</td>\n",
       "      <td>http://youtube.com/channel/UCX6OQ3DkcsbYNE6H8u...</td>\n",
       "    </tr>\n",
       "    <tr>\n",
       "      <th>5</th>\n",
       "      <td>6</td>\n",
       "      <td>PewDiePie</td>\n",
       "      <td>Películas, Videojuegos</td>\n",
       "      <td>111500000.0</td>\n",
       "      <td>Estados Unidos</td>\n",
       "      <td>2400000.0</td>\n",
       "      <td>197300.0</td>\n",
       "      <td>4900.0</td>\n",
       "      <td>http://youtube.com/channel/UC-lHJZR3Gqxm24_Vd_...</td>\n",
       "    </tr>\n",
       "    <tr>\n",
       "      <th>10</th>\n",
       "      <td>11</td>\n",
       "      <td>BLACKPINK</td>\n",
       "      <td>Música y baile</td>\n",
       "      <td>91300000.0</td>\n",
       "      <td>Estados Unidos</td>\n",
       "      <td>863200.0</td>\n",
       "      <td>146900.0</td>\n",
       "      <td>3400.0</td>\n",
       "      <td>http://youtube.com/channel/UCOmHUn--16B90oW2L6...</td>\n",
       "    </tr>\n",
       "    <tr>\n",
       "      <th>14</th>\n",
       "      <td>15</td>\n",
       "      <td>BTS</td>\n",
       "      <td>Música y baile</td>\n",
       "      <td>76500000.0</td>\n",
       "      <td>India</td>\n",
       "      <td>969700.0</td>\n",
       "      <td>180300.0</td>\n",
       "      <td>7400.0</td>\n",
       "      <td>http://youtube.com/channel/UCLkAepWjdylmXSltof...</td>\n",
       "    </tr>\n",
       "    <tr>\n",
       "      <th>26</th>\n",
       "      <td>27</td>\n",
       "      <td>dudeperfect</td>\n",
       "      <td>Videojuegos</td>\n",
       "      <td>59700000.0</td>\n",
       "      <td>Estados Unidos</td>\n",
       "      <td>5300000.0</td>\n",
       "      <td>156500.0</td>\n",
       "      <td>4200.0</td>\n",
       "      <td>http://youtube.com/channel/UCRijo3ddMTht_IHyNS...</td>\n",
       "    </tr>\n",
       "  </tbody>\n",
       "</table>\n",
       "</div>"
      ],
      "text/plain": [
       "    Rank     Username              Categories   Suscribers         Country  \\\n",
       "1      2      MrBeast      Videojuegos, Humor  183500000.0  Estados Unidos   \n",
       "5      6    PewDiePie  Películas, Videojuegos  111500000.0  Estados Unidos   \n",
       "10    11    BLACKPINK          Música y baile   91300000.0  Estados Unidos   \n",
       "14    15          BTS          Música y baile   76500000.0           India   \n",
       "26    27  dudeperfect             Videojuegos   59700000.0  Estados Unidos   \n",
       "\n",
       "         Visits      Likes  Comments  \\\n",
       "1   117400000.0  5300000.0   18500.0   \n",
       "5     2400000.0   197300.0    4900.0   \n",
       "10     863200.0   146900.0    3400.0   \n",
       "14     969700.0   180300.0    7400.0   \n",
       "26    5300000.0   156500.0    4200.0   \n",
       "\n",
       "                                                Links  \n",
       "1   http://youtube.com/channel/UCX6OQ3DkcsbYNE6H8u...  \n",
       "5   http://youtube.com/channel/UC-lHJZR3Gqxm24_Vd_...  \n",
       "10  http://youtube.com/channel/UCOmHUn--16B90oW2L6...  \n",
       "14  http://youtube.com/channel/UCLkAepWjdylmXSltof...  \n",
       "26  http://youtube.com/channel/UCRijo3ddMTht_IHyNS...  "
      ]
     },
     "execution_count": 43,
     "metadata": {},
     "output_type": "execute_result"
    }
   ],
   "source": [
    "above_avg3=data.loc[data['Likes']>data.Likes.mean()]\n",
    "above_avg3.head()"
   ]
  },
  {
   "cell_type": "code",
   "execution_count": 44,
   "id": "25a5a37c-31b9-438b-a5e4-79a55d9fcca5",
   "metadata": {},
   "outputs": [
    {
     "data": {
      "text/html": [
       "<div>\n",
       "<style scoped>\n",
       "    .dataframe tbody tr th:only-of-type {\n",
       "        vertical-align: middle;\n",
       "    }\n",
       "\n",
       "    .dataframe tbody tr th {\n",
       "        vertical-align: top;\n",
       "    }\n",
       "\n",
       "    .dataframe thead th {\n",
       "        text-align: right;\n",
       "    }\n",
       "</style>\n",
       "<table border=\"1\" class=\"dataframe\">\n",
       "  <thead>\n",
       "    <tr style=\"text-align: right;\">\n",
       "      <th></th>\n",
       "      <th>Rank</th>\n",
       "      <th>Username</th>\n",
       "      <th>Categories</th>\n",
       "      <th>Suscribers</th>\n",
       "      <th>Country</th>\n",
       "      <th>Visits</th>\n",
       "      <th>Likes</th>\n",
       "      <th>Comments</th>\n",
       "      <th>Links</th>\n",
       "    </tr>\n",
       "  </thead>\n",
       "  <tbody>\n",
       "    <tr>\n",
       "      <th>1</th>\n",
       "      <td>2</td>\n",
       "      <td>MrBeast</td>\n",
       "      <td>Videojuegos, Humor</td>\n",
       "      <td>183500000.0</td>\n",
       "      <td>Estados Unidos</td>\n",
       "      <td>117400000.0</td>\n",
       "      <td>5300000.0</td>\n",
       "      <td>18500.0</td>\n",
       "      <td>http://youtube.com/channel/UCX6OQ3DkcsbYNE6H8u...</td>\n",
       "    </tr>\n",
       "    <tr>\n",
       "      <th>5</th>\n",
       "      <td>6</td>\n",
       "      <td>PewDiePie</td>\n",
       "      <td>Películas, Videojuegos</td>\n",
       "      <td>111500000.0</td>\n",
       "      <td>Estados Unidos</td>\n",
       "      <td>2400000.0</td>\n",
       "      <td>197300.0</td>\n",
       "      <td>4900.0</td>\n",
       "      <td>http://youtube.com/channel/UC-lHJZR3Gqxm24_Vd_...</td>\n",
       "    </tr>\n",
       "    <tr>\n",
       "      <th>10</th>\n",
       "      <td>11</td>\n",
       "      <td>BLACKPINK</td>\n",
       "      <td>Música y baile</td>\n",
       "      <td>91300000.0</td>\n",
       "      <td>Estados Unidos</td>\n",
       "      <td>863200.0</td>\n",
       "      <td>146900.0</td>\n",
       "      <td>3400.0</td>\n",
       "      <td>http://youtube.com/channel/UCOmHUn--16B90oW2L6...</td>\n",
       "    </tr>\n",
       "    <tr>\n",
       "      <th>14</th>\n",
       "      <td>15</td>\n",
       "      <td>BTS</td>\n",
       "      <td>Música y baile</td>\n",
       "      <td>76500000.0</td>\n",
       "      <td>India</td>\n",
       "      <td>969700.0</td>\n",
       "      <td>180300.0</td>\n",
       "      <td>7400.0</td>\n",
       "      <td>http://youtube.com/channel/UCLkAepWjdylmXSltof...</td>\n",
       "    </tr>\n",
       "    <tr>\n",
       "      <th>26</th>\n",
       "      <td>27</td>\n",
       "      <td>dudeperfect</td>\n",
       "      <td>Videojuegos</td>\n",
       "      <td>59700000.0</td>\n",
       "      <td>Estados Unidos</td>\n",
       "      <td>5300000.0</td>\n",
       "      <td>156500.0</td>\n",
       "      <td>4200.0</td>\n",
       "      <td>http://youtube.com/channel/UCRijo3ddMTht_IHyNS...</td>\n",
       "    </tr>\n",
       "  </tbody>\n",
       "</table>\n",
       "</div>"
      ],
      "text/plain": [
       "    Rank     Username              Categories   Suscribers         Country  \\\n",
       "1      2      MrBeast      Videojuegos, Humor  183500000.0  Estados Unidos   \n",
       "5      6    PewDiePie  Películas, Videojuegos  111500000.0  Estados Unidos   \n",
       "10    11    BLACKPINK          Música y baile   91300000.0  Estados Unidos   \n",
       "14    15          BTS          Música y baile   76500000.0           India   \n",
       "26    27  dudeperfect             Videojuegos   59700000.0  Estados Unidos   \n",
       "\n",
       "         Visits      Likes  Comments  \\\n",
       "1   117400000.0  5300000.0   18500.0   \n",
       "5     2400000.0   197300.0    4900.0   \n",
       "10     863200.0   146900.0    3400.0   \n",
       "14     969700.0   180300.0    7400.0   \n",
       "26    5300000.0   156500.0    4200.0   \n",
       "\n",
       "                                                Links  \n",
       "1   http://youtube.com/channel/UCX6OQ3DkcsbYNE6H8u...  \n",
       "5   http://youtube.com/channel/UC-lHJZR3Gqxm24_Vd_...  \n",
       "10  http://youtube.com/channel/UCOmHUn--16B90oW2L6...  \n",
       "14  http://youtube.com/channel/UCLkAepWjdylmXSltof...  \n",
       "26  http://youtube.com/channel/UCRijo3ddMTht_IHyNS...  "
      ]
     },
     "execution_count": 44,
     "metadata": {},
     "output_type": "execute_result"
    }
   ],
   "source": [
    "above_avg4=data.loc[data['Comments']>data.Comments.mean()]\n",
    "above_avg4.head()"
   ]
  },
  {
   "cell_type": "code",
   "execution_count": 45,
   "id": "4a1e0128-9be1-4cd8-8032-aefe666251a4",
   "metadata": {},
   "outputs": [
    {
     "data": {
      "text/html": [
       "<div>\n",
       "<style scoped>\n",
       "    .dataframe tbody tr th:only-of-type {\n",
       "        vertical-align: middle;\n",
       "    }\n",
       "\n",
       "    .dataframe tbody tr th {\n",
       "        vertical-align: top;\n",
       "    }\n",
       "\n",
       "    .dataframe thead th {\n",
       "        text-align: right;\n",
       "    }\n",
       "</style>\n",
       "<table border=\"1\" class=\"dataframe\">\n",
       "  <thead>\n",
       "    <tr style=\"text-align: right;\">\n",
       "      <th></th>\n",
       "      <th>Rank</th>\n",
       "      <th>Username</th>\n",
       "      <th>Categories</th>\n",
       "      <th>Suscribers</th>\n",
       "      <th>Country</th>\n",
       "      <th>Visits</th>\n",
       "      <th>Likes</th>\n",
       "      <th>Comments</th>\n",
       "      <th>Links</th>\n",
       "    </tr>\n",
       "  </thead>\n",
       "  <tbody>\n",
       "    <tr>\n",
       "      <th>1</th>\n",
       "      <td>2</td>\n",
       "      <td>MrBeast</td>\n",
       "      <td>Videojuegos, Humor</td>\n",
       "      <td>183500000.0</td>\n",
       "      <td>Estados Unidos</td>\n",
       "      <td>117400000.0</td>\n",
       "      <td>5300000.0</td>\n",
       "      <td>18500.0</td>\n",
       "      <td>http://youtube.com/channel/UCX6OQ3DkcsbYNE6H8u...</td>\n",
       "    </tr>\n",
       "    <tr>\n",
       "      <th>5</th>\n",
       "      <td>6</td>\n",
       "      <td>PewDiePie</td>\n",
       "      <td>Películas, Videojuegos</td>\n",
       "      <td>111500000.0</td>\n",
       "      <td>Estados Unidos</td>\n",
       "      <td>2400000.0</td>\n",
       "      <td>197300.0</td>\n",
       "      <td>4900.0</td>\n",
       "      <td>http://youtube.com/channel/UC-lHJZR3Gqxm24_Vd_...</td>\n",
       "    </tr>\n",
       "    <tr>\n",
       "      <th>26</th>\n",
       "      <td>27</td>\n",
       "      <td>dudeperfect</td>\n",
       "      <td>Videojuegos</td>\n",
       "      <td>59700000.0</td>\n",
       "      <td>Estados Unidos</td>\n",
       "      <td>5300000.0</td>\n",
       "      <td>156500.0</td>\n",
       "      <td>4200.0</td>\n",
       "      <td>http://youtube.com/channel/UCRijo3ddMTht_IHyNS...</td>\n",
       "    </tr>\n",
       "    <tr>\n",
       "      <th>34</th>\n",
       "      <td>35</td>\n",
       "      <td>TaylorSwift</td>\n",
       "      <td>Música y baile</td>\n",
       "      <td>54100000.0</td>\n",
       "      <td>Estados Unidos</td>\n",
       "      <td>4300000.0</td>\n",
       "      <td>300400.0</td>\n",
       "      <td>15000.0</td>\n",
       "      <td>http://youtube.com/channel/UCqECaJ8Gagnn7YCbPE...</td>\n",
       "    </tr>\n",
       "    <tr>\n",
       "      <th>39</th>\n",
       "      <td>40</td>\n",
       "      <td>JuegaGerman</td>\n",
       "      <td>Películas, Animación</td>\n",
       "      <td>48600000.0</td>\n",
       "      <td>México</td>\n",
       "      <td>2000000.0</td>\n",
       "      <td>117100.0</td>\n",
       "      <td>3000.0</td>\n",
       "      <td>http://youtube.com/channel/UCYiGq8XF7YQD00x7wA...</td>\n",
       "    </tr>\n",
       "  </tbody>\n",
       "</table>\n",
       "</div>"
      ],
      "text/plain": [
       "    Rank     Username              Categories   Suscribers         Country  \\\n",
       "1      2      MrBeast      Videojuegos, Humor  183500000.0  Estados Unidos   \n",
       "5      6    PewDiePie  Películas, Videojuegos  111500000.0  Estados Unidos   \n",
       "26    27  dudeperfect             Videojuegos   59700000.0  Estados Unidos   \n",
       "34    35  TaylorSwift          Música y baile   54100000.0  Estados Unidos   \n",
       "39    40  JuegaGerman    Películas, Animación   48600000.0          México   \n",
       "\n",
       "         Visits      Likes  Comments  \\\n",
       "1   117400000.0  5300000.0   18500.0   \n",
       "5     2400000.0   197300.0    4900.0   \n",
       "26    5300000.0   156500.0    4200.0   \n",
       "34    4300000.0   300400.0   15000.0   \n",
       "39    2000000.0   117100.0    3000.0   \n",
       "\n",
       "                                                Links  \n",
       "1   http://youtube.com/channel/UCX6OQ3DkcsbYNE6H8u...  \n",
       "5   http://youtube.com/channel/UC-lHJZR3Gqxm24_Vd_...  \n",
       "26  http://youtube.com/channel/UCRijo3ddMTht_IHyNS...  \n",
       "34  http://youtube.com/channel/UCqECaJ8Gagnn7YCbPE...  \n",
       "39  http://youtube.com/channel/UCYiGq8XF7YQD00x7wA...  "
      ]
     },
     "execution_count": 45,
     "metadata": {},
     "output_type": "execute_result"
    }
   ],
   "source": [
    "metric_above_avg=data[(data['Comments']>data.Comments.mean())&(data['Likes']>data.Likes.mean())\\\n",
    "                     \n",
    "                     &(data['Suscribers']>data.Suscribers.mean())&(data['Visits']>data.Visits.mean())]\n",
    "metric_above_avg.head()"
   ]
  },
  {
   "cell_type": "code",
   "execution_count": 46,
   "id": "4461177b-051e-4134-bc8d-e67aedf2871f",
   "metadata": {},
   "outputs": [
    {
     "data": {
      "text/plain": [
       "(38, 9)"
      ]
     },
     "execution_count": 46,
     "metadata": {},
     "output_type": "execute_result"
    }
   ],
   "source": [
    "metric_above_avg.shape"
   ]
  },
  {
   "cell_type": "code",
   "execution_count": 47,
   "id": "30a5b48d-36dd-40b7-bf0d-2349f4b15e33",
   "metadata": {},
   "outputs": [
    {
     "data": {
      "text/html": [
       "<div>\n",
       "<style scoped>\n",
       "    .dataframe tbody tr th:only-of-type {\n",
       "        vertical-align: middle;\n",
       "    }\n",
       "\n",
       "    .dataframe tbody tr th {\n",
       "        vertical-align: top;\n",
       "    }\n",
       "\n",
       "    .dataframe thead th {\n",
       "        text-align: right;\n",
       "    }\n",
       "</style>\n",
       "<table border=\"1\" class=\"dataframe\">\n",
       "  <thead>\n",
       "    <tr style=\"text-align: right;\">\n",
       "      <th></th>\n",
       "      <th>Rank</th>\n",
       "      <th>Username</th>\n",
       "      <th>Categories</th>\n",
       "      <th>Suscribers</th>\n",
       "      <th>Country</th>\n",
       "      <th>Visits</th>\n",
       "      <th>Likes</th>\n",
       "      <th>Comments</th>\n",
       "      <th>Links</th>\n",
       "    </tr>\n",
       "  </thead>\n",
       "  <tbody>\n",
       "    <tr>\n",
       "      <th>1</th>\n",
       "      <td>2</td>\n",
       "      <td>MrBeast</td>\n",
       "      <td>Videojuegos, Humor</td>\n",
       "      <td>183500000.0</td>\n",
       "      <td>Estados Unidos</td>\n",
       "      <td>117400000.0</td>\n",
       "      <td>5300000.0</td>\n",
       "      <td>18500.0</td>\n",
       "      <td>http://youtube.com/channel/UCX6OQ3DkcsbYNE6H8u...</td>\n",
       "    </tr>\n",
       "    <tr>\n",
       "      <th>136</th>\n",
       "      <td>137</td>\n",
       "      <td>MrBeast2</td>\n",
       "      <td>Vlogs diarios</td>\n",
       "      <td>31300000.0</td>\n",
       "      <td>Estados Unidos</td>\n",
       "      <td>83100000.0</td>\n",
       "      <td>5000000.0</td>\n",
       "      <td>11600.0</td>\n",
       "      <td>http://youtube.com/channel/UC4-79UOlP48-QNGgCk...</td>\n",
       "    </tr>\n",
       "    <tr>\n",
       "      <th>153</th>\n",
       "      <td>154</td>\n",
       "      <td>DaFuqBoom</td>\n",
       "      <td>Animación, Humor</td>\n",
       "      <td>29800000.0</td>\n",
       "      <td>Estados Unidos</td>\n",
       "      <td>52700000.0</td>\n",
       "      <td>1700000.0</td>\n",
       "      <td>82800.0</td>\n",
       "      <td>http://youtube.com/channel/UCsSsgPaZ2GSmO6il8C...</td>\n",
       "    </tr>\n",
       "    <tr>\n",
       "      <th>288</th>\n",
       "      <td>289</td>\n",
       "      <td>VillageCookingChannel</td>\n",
       "      <td>Música y baile</td>\n",
       "      <td>22500000.0</td>\n",
       "      <td>India</td>\n",
       "      <td>21500000.0</td>\n",
       "      <td>321500.0</td>\n",
       "      <td>5900.0</td>\n",
       "      <td>http://youtube.com/channel/UCk3JZr7eS3pg5AGEvB...</td>\n",
       "    </tr>\n",
       "    <tr>\n",
       "      <th>300</th>\n",
       "      <td>301</td>\n",
       "      <td>alfredolarin</td>\n",
       "      <td>Música y baile</td>\n",
       "      <td>21900000.0</td>\n",
       "      <td>El Salvador</td>\n",
       "      <td>12900000.0</td>\n",
       "      <td>707600.0</td>\n",
       "      <td>2100.0</td>\n",
       "      <td>http://youtube.com/channel/UCd5ApCORQsMOZZz5E9...</td>\n",
       "    </tr>\n",
       "  </tbody>\n",
       "</table>\n",
       "</div>"
      ],
      "text/plain": [
       "     Rank               Username          Categories   Suscribers  \\\n",
       "1       2                MrBeast  Videojuegos, Humor  183500000.0   \n",
       "136   137               MrBeast2       Vlogs diarios   31300000.0   \n",
       "153   154              DaFuqBoom    Animación, Humor   29800000.0   \n",
       "288   289  VillageCookingChannel      Música y baile   22500000.0   \n",
       "300   301           alfredolarin      Música y baile   21900000.0   \n",
       "\n",
       "            Country       Visits      Likes  Comments  \\\n",
       "1    Estados Unidos  117400000.0  5300000.0   18500.0   \n",
       "136  Estados Unidos   83100000.0  5000000.0   11600.0   \n",
       "153  Estados Unidos   52700000.0  1700000.0   82800.0   \n",
       "288           India   21500000.0   321500.0    5900.0   \n",
       "300     El Salvador   12900000.0   707600.0    2100.0   \n",
       "\n",
       "                                                 Links  \n",
       "1    http://youtube.com/channel/UCX6OQ3DkcsbYNE6H8u...  \n",
       "136  http://youtube.com/channel/UC4-79UOlP48-QNGgCk...  \n",
       "153  http://youtube.com/channel/UCsSsgPaZ2GSmO6il8C...  \n",
       "288  http://youtube.com/channel/UCk3JZr7eS3pg5AGEvB...  \n",
       "300  http://youtube.com/channel/UCd5ApCORQsMOZZz5E9...  "
      ]
     },
     "execution_count": 47,
     "metadata": {},
     "output_type": "execute_result"
    }
   ],
   "source": [
    "top5=metric_above_avg.sort_values('Visits',ascending=False)[:5]\n",
    "top5"
   ]
  },
  {
   "cell_type": "markdown",
   "id": "7bf02152-30f5-4788-aa79-c72294e5a85d",
   "metadata": {},
   "source": []
  },
  {
   "cell_type": "markdown",
   "id": "d145f3bd-5e1d-4740-9ea8-47b1ba691c33",
   "metadata": {},
   "source": [
    "## Recommendations"
   ]
  },
  {
   "cell_type": "code",
   "execution_count": 49,
   "id": "95f49834-94ed-4f07-80d7-142ca3b69265",
   "metadata": {},
   "outputs": [],
   "source": [
    "from sklearn.metrics.pairwise import cosine_similarity"
   ]
  },
  {
   "cell_type": "code",
   "execution_count": 50,
   "id": "4db87467-c3f4-428f-81ba-02c6d7dfefd7",
   "metadata": {},
   "outputs": [],
   "source": [
    "from sklearn.preprocessing import StandardScaler"
   ]
  },
  {
   "cell_type": "code",
   "execution_count": 51,
   "id": "039ceb5b-8855-4e1e-a92c-d8bd61b57171",
   "metadata": {},
   "outputs": [],
   "source": [
    "scaler=StandardScaler()"
   ]
  },
  {
   "cell_type": "code",
   "execution_count": 52,
   "id": "7e09f6e7-f856-4284-bb83-f9d70ab5a97d",
   "metadata": {},
   "outputs": [
    {
     "data": {
      "text/plain": [
       "array([[13.53237666, -0.21487969, -0.19747696, -0.17871646],\n",
       "       [ 9.6083218 , 22.22752889, 20.34133014,  2.54047886],\n",
       "       [ 8.53812503,  1.10774667, -0.11217808, -0.19022972],\n",
       "       ...,\n",
       "       [-0.60611189, -0.19092863, -0.20505693, -0.19022972],\n",
       "       [-0.60611189, -0.22869172, -0.2076314 , -0.19008211],\n",
       "       [-0.60611189, -0.23094909, -0.20782526, -0.19008211]])"
      ]
     },
     "execution_count": 52,
     "metadata": {},
     "output_type": "execute_result"
    }
   ],
   "source": [
    "scaler.fit_transform(data[['Suscribers', 'Visits',\n",
    "       'Likes', 'Comments']])"
   ]
  },
  {
   "cell_type": "code",
   "execution_count": 58,
   "id": "f421b16a-b484-4dde-a41b-b4e7a434b622",
   "metadata": {},
   "outputs": [
    {
     "data": {
      "text/html": [
       "<div>\n",
       "<style scoped>\n",
       "    .dataframe tbody tr th:only-of-type {\n",
       "        vertical-align: middle;\n",
       "    }\n",
       "\n",
       "    .dataframe tbody tr th {\n",
       "        vertical-align: top;\n",
       "    }\n",
       "\n",
       "    .dataframe thead th {\n",
       "        text-align: right;\n",
       "    }\n",
       "</style>\n",
       "<table border=\"1\" class=\"dataframe\">\n",
       "  <thead>\n",
       "    <tr style=\"text-align: right;\">\n",
       "      <th>Categories</th>\n",
       "      <th>ASMR</th>\n",
       "      <th>ASMR, Comida y bebida</th>\n",
       "      <th>Animación</th>\n",
       "      <th>Animación, Humor</th>\n",
       "      <th>Animación, Humor, Juguetes</th>\n",
       "      <th>Animación, Juguetes</th>\n",
       "      <th>Animación, Videojuegos</th>\n",
       "      <th>Animales y mascotas</th>\n",
       "      <th>Belleza, Moda</th>\n",
       "      <th>Ciencia y tecnología</th>\n",
       "      <th>...</th>\n",
       "      <th>Películas</th>\n",
       "      <th>Películas, Animación</th>\n",
       "      <th>Películas, Humor</th>\n",
       "      <th>Películas, Juguetes</th>\n",
       "      <th>Películas, Videojuegos</th>\n",
       "      <th>Viajes, Espectáculos</th>\n",
       "      <th>Videojuegos</th>\n",
       "      <th>Videojuegos, Humor</th>\n",
       "      <th>Videojuegos, Juguetes</th>\n",
       "      <th>Vlogs diarios</th>\n",
       "    </tr>\n",
       "    <tr>\n",
       "      <th>Username</th>\n",
       "      <th></th>\n",
       "      <th></th>\n",
       "      <th></th>\n",
       "      <th></th>\n",
       "      <th></th>\n",
       "      <th></th>\n",
       "      <th></th>\n",
       "      <th></th>\n",
       "      <th></th>\n",
       "      <th></th>\n",
       "      <th></th>\n",
       "      <th></th>\n",
       "      <th></th>\n",
       "      <th></th>\n",
       "      <th></th>\n",
       "      <th></th>\n",
       "      <th></th>\n",
       "      <th></th>\n",
       "      <th></th>\n",
       "      <th></th>\n",
       "      <th></th>\n",
       "    </tr>\n",
       "  </thead>\n",
       "  <tbody>\n",
       "    <tr>\n",
       "      <th>-genevievesplayhouse1465</th>\n",
       "      <td>0</td>\n",
       "      <td>0</td>\n",
       "      <td>0</td>\n",
       "      <td>0</td>\n",
       "      <td>0</td>\n",
       "      <td>0</td>\n",
       "      <td>0</td>\n",
       "      <td>0</td>\n",
       "      <td>0</td>\n",
       "      <td>0</td>\n",
       "      <td>...</td>\n",
       "      <td>0</td>\n",
       "      <td>0</td>\n",
       "      <td>0</td>\n",
       "      <td>0</td>\n",
       "      <td>0</td>\n",
       "      <td>0</td>\n",
       "      <td>0</td>\n",
       "      <td>0</td>\n",
       "      <td>0</td>\n",
       "      <td>0</td>\n",
       "    </tr>\n",
       "    <tr>\n",
       "      <th>123GOSpanish</th>\n",
       "      <td>0</td>\n",
       "      <td>0</td>\n",
       "      <td>547</td>\n",
       "      <td>0</td>\n",
       "      <td>0</td>\n",
       "      <td>0</td>\n",
       "      <td>0</td>\n",
       "      <td>0</td>\n",
       "      <td>0</td>\n",
       "      <td>0</td>\n",
       "      <td>...</td>\n",
       "      <td>0</td>\n",
       "      <td>0</td>\n",
       "      <td>0</td>\n",
       "      <td>0</td>\n",
       "      <td>0</td>\n",
       "      <td>0</td>\n",
       "      <td>0</td>\n",
       "      <td>0</td>\n",
       "      <td>0</td>\n",
       "      <td>0</td>\n",
       "    </tr>\n",
       "    <tr>\n",
       "      <th>123GO_</th>\n",
       "      <td>0</td>\n",
       "      <td>0</td>\n",
       "      <td>0</td>\n",
       "      <td>0</td>\n",
       "      <td>0</td>\n",
       "      <td>0</td>\n",
       "      <td>0</td>\n",
       "      <td>0</td>\n",
       "      <td>0</td>\n",
       "      <td>0</td>\n",
       "      <td>...</td>\n",
       "      <td>0</td>\n",
       "      <td>0</td>\n",
       "      <td>0</td>\n",
       "      <td>0</td>\n",
       "      <td>0</td>\n",
       "      <td>0</td>\n",
       "      <td>0</td>\n",
       "      <td>0</td>\n",
       "      <td>0</td>\n",
       "      <td>0</td>\n",
       "    </tr>\n",
       "    <tr>\n",
       "      <th>1MILLION_Dance</th>\n",
       "      <td>0</td>\n",
       "      <td>0</td>\n",
       "      <td>0</td>\n",
       "      <td>0</td>\n",
       "      <td>0</td>\n",
       "      <td>0</td>\n",
       "      <td>0</td>\n",
       "      <td>0</td>\n",
       "      <td>0</td>\n",
       "      <td>0</td>\n",
       "      <td>...</td>\n",
       "      <td>0</td>\n",
       "      <td>0</td>\n",
       "      <td>0</td>\n",
       "      <td>0</td>\n",
       "      <td>0</td>\n",
       "      <td>0</td>\n",
       "      <td>0</td>\n",
       "      <td>0</td>\n",
       "      <td>0</td>\n",
       "      <td>0</td>\n",
       "    </tr>\n",
       "    <tr>\n",
       "      <th>1theK</th>\n",
       "      <td>0</td>\n",
       "      <td>0</td>\n",
       "      <td>0</td>\n",
       "      <td>0</td>\n",
       "      <td>0</td>\n",
       "      <td>0</td>\n",
       "      <td>0</td>\n",
       "      <td>0</td>\n",
       "      <td>0</td>\n",
       "      <td>0</td>\n",
       "      <td>...</td>\n",
       "      <td>0</td>\n",
       "      <td>0</td>\n",
       "      <td>0</td>\n",
       "      <td>0</td>\n",
       "      <td>0</td>\n",
       "      <td>0</td>\n",
       "      <td>0</td>\n",
       "      <td>0</td>\n",
       "      <td>0</td>\n",
       "      <td>0</td>\n",
       "    </tr>\n",
       "  </tbody>\n",
       "</table>\n",
       "<p>5 rows × 45 columns</p>\n",
       "</div>"
      ],
      "text/plain": [
       "Categories                ASMR  ASMR, Comida y bebida  Animación  \\\n",
       "Username                                                           \n",
       "-genevievesplayhouse1465     0                      0          0   \n",
       "123GOSpanish                 0                      0        547   \n",
       "123GO_                       0                      0          0   \n",
       "1MILLION_Dance               0                      0          0   \n",
       "1theK                        0                      0          0   \n",
       "\n",
       "Categories                Animación, Humor  Animación, Humor, Juguetes  \\\n",
       "Username                                                                 \n",
       "-genevievesplayhouse1465                 0                           0   \n",
       "123GOSpanish                             0                           0   \n",
       "123GO_                                   0                           0   \n",
       "1MILLION_Dance                           0                           0   \n",
       "1theK                                    0                           0   \n",
       "\n",
       "Categories                Animación, Juguetes  Animación, Videojuegos  \\\n",
       "Username                                                                \n",
       "-genevievesplayhouse1465                    0                       0   \n",
       "123GOSpanish                                0                       0   \n",
       "123GO_                                      0                       0   \n",
       "1MILLION_Dance                              0                       0   \n",
       "1theK                                       0                       0   \n",
       "\n",
       "Categories                Animales y mascotas  Belleza, Moda  \\\n",
       "Username                                                       \n",
       "-genevievesplayhouse1465                    0              0   \n",
       "123GOSpanish                                0              0   \n",
       "123GO_                                      0              0   \n",
       "1MILLION_Dance                              0              0   \n",
       "1theK                                       0              0   \n",
       "\n",
       "Categories                Ciencia y tecnología  ...  Películas  \\\n",
       "Username                                        ...              \n",
       "-genevievesplayhouse1465                     0  ...          0   \n",
       "123GOSpanish                                 0  ...          0   \n",
       "123GO_                                       0  ...          0   \n",
       "1MILLION_Dance                               0  ...          0   \n",
       "1theK                                        0  ...          0   \n",
       "\n",
       "Categories                Películas, Animación  Películas, Humor  \\\n",
       "Username                                                           \n",
       "-genevievesplayhouse1465                     0                 0   \n",
       "123GOSpanish                                 0                 0   \n",
       "123GO_                                       0                 0   \n",
       "1MILLION_Dance                               0                 0   \n",
       "1theK                                        0                 0   \n",
       "\n",
       "Categories                Películas, Juguetes  Películas, Videojuegos  \\\n",
       "Username                                                                \n",
       "-genevievesplayhouse1465                    0                       0   \n",
       "123GOSpanish                                0                       0   \n",
       "123GO_                                      0                       0   \n",
       "1MILLION_Dance                              0                       0   \n",
       "1theK                                       0                       0   \n",
       "\n",
       "Categories                Viajes, Espectáculos  Videojuegos  \\\n",
       "Username                                                      \n",
       "-genevievesplayhouse1465                     0            0   \n",
       "123GOSpanish                                 0            0   \n",
       "123GO_                                       0            0   \n",
       "1MILLION_Dance                               0            0   \n",
       "1theK                                        0            0   \n",
       "\n",
       "Categories                Videojuegos, Humor  Videojuegos, Juguetes  \\\n",
       "Username                                                              \n",
       "-genevievesplayhouse1465                   0                      0   \n",
       "123GOSpanish                               0                      0   \n",
       "123GO_                                     0                      0   \n",
       "1MILLION_Dance                             0                      0   \n",
       "1theK                                      0                      0   \n",
       "\n",
       "Categories                Vlogs diarios  \n",
       "Username                                 \n",
       "-genevievesplayhouse1465              0  \n",
       "123GOSpanish                          0  \n",
       "123GO_                                0  \n",
       "1MILLION_Dance                        0  \n",
       "1theK                                 0  \n",
       "\n",
       "[5 rows x 45 columns]"
      ]
     },
     "execution_count": 58,
     "metadata": {},
     "output_type": "execute_result"
    }
   ],
   "source": [
    "user_item_matrix=data.pivot_table(index='Username',columns='Categories',values='Likes',aggfunc='sum',fill_value=0)\n",
    "user_item_matrix.head()"
   ]
  },
  {
   "cell_type": "code",
   "execution_count": 74,
   "id": "2682f656-1a1e-46c4-a76f-1c11d3e62818",
   "metadata": {},
   "outputs": [],
   "source": [
    "import numpy as np"
   ]
  },
  {
   "cell_type": "code",
   "execution_count": 83,
   "id": "1a19f6d0-5601-4d5d-b60e-2ff6095b8ace",
   "metadata": {},
   "outputs": [
    {
     "name": "stdout",
     "output_type": "stream",
     "text": [
      "Recommendation #1: Category Deportes\n",
      "Recommendation #2: Category DIY y Life Hacks\n",
      "Recommendation #3: Category Comida y bebida, Juguetes\n",
      "Recommendation #4: Category Comida y bebida, Salud y autoayuda\n",
      "Recommendation #5: Category Videojuegos, Juguetes\n"
     ]
    }
   ],
   "source": [
    "category_similarity=cosine_similarity(user_item_matrix.T)\n",
    "# Replace 'target_streamer_username' with the actual streamer username you want recommendations for\n",
    "target_streamer_username = '123GO_'\n",
    "if target_streamer_username in user_item_matrix.index:\n",
    "    # Get the target streamer's likes for watched categories\n",
    "    target_streamer_likes = user_item_matrix.loc[target_streamer_username]\n",
    "\n",
    "# Calculate the predicted likes based on category similarity\n",
    "predicted_likes = category_similarity.dot(target_streamer_likes)\n",
    "\n",
    "# Filter out the categories the streamer has already covered\n",
    "predicted_likes = predicted_likes[target_streamer_likes == 0]\n",
    "\n",
    "# Get top-N recommendations\n",
    "n_recommendations = 5\n",
    "top_indices = np.argpartition(predicted_likes, -n_recommendations)[-n_recommendations:]\n",
    "top_recommendations = [(user_item_matrix.columns[i], predicted_likes[i]) for i in top_indices]\n",
    "# Print the top recommendations\n",
    "for i, (Categories, estimated_likes) in enumerate(sorted(top_recommendations,key=lambda x:x[1],reverse=True)):\n",
    "    print(f\"Recommendation #{i + 1}: Category {Categories}\")"
   ]
  },
  {
   "cell_type": "code",
   "execution_count": null,
   "id": "0ac6fd49-0ebb-4b7b-b524-6cb3b009531e",
   "metadata": {},
   "outputs": [],
   "source": []
  }
 ],
 "metadata": {
  "kernelspec": {
   "display_name": "Python 3 (ipykernel)",
   "language": "python",
   "name": "python3"
  },
  "language_info": {
   "codemirror_mode": {
    "name": "ipython",
    "version": 3
   },
   "file_extension": ".py",
   "mimetype": "text/x-python",
   "name": "python",
   "nbconvert_exporter": "python",
   "pygments_lexer": "ipython3",
   "version": "3.9.12"
  }
 },
 "nbformat": 4,
 "nbformat_minor": 5
}
